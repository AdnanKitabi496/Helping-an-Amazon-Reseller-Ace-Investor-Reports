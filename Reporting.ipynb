{
 "cells": [
  {
   "cell_type": "code",
   "execution_count": 1,
   "metadata": {},
   "outputs": [],
   "source": [
    "#import the package\n",
    "import pandas as pd\n",
    "import numpy as np\n",
    "import time\n",
    "import datetime as dt\n",
    "import warnings\n",
    "warnings.filterwarnings('ignore')"
   ]
  },
  {
   "cell_type": "code",
   "execution_count": 2,
   "metadata": {},
   "outputs": [],
   "source": [
    "transaction=pd.read_csv('2021 Year End Transaction List.csv')\n",
    "prod_map = pd.read_csv('ProductMapping.csv')\n",
    "new_customer = pd.read_csv('2021 Year End Customer List.csv')\n",
    "overhead_coupon = pd.read_excel('2021 Amazon Transactions - Seller Central.xlsx', \\\n",
    "                                sheet_name= '2021Jan1-2021Dec31CustomUnified')"
   ]
  },
  {
   "cell_type": "code",
   "execution_count": 3,
   "metadata": {},
   "outputs": [],
   "source": [
    "# Convert the date to datetime64\n",
    "transaction['Date'] = pd.to_datetime(transaction['Date'], format='%d/%m/%Y')"
   ]
  },
  {
   "cell_type": "code",
   "execution_count": 4,
   "metadata": {},
   "outputs": [],
   "source": [
    "# Filter data between two dates\n",
    "#trans_this_year= transaction.loc[transaction['Date'] >= '2021-01-01']\n",
    "trans_this_year= transaction.copy()"
   ]
  },
  {
   "cell_type": "code",
   "execution_count": 5,
   "metadata": {},
   "outputs": [],
   "source": [
    "trans_this_year['AmazonFee'] = trans_this_year['ProductSales'] - trans_this_year['Total']"
   ]
  },
  {
   "cell_type": "code",
   "execution_count": 6,
   "metadata": {},
   "outputs": [],
   "source": [
    "trans_this_year['month'] = trans_this_year['Date'].dt.month"
   ]
  },
  {
   "cell_type": "code",
   "execution_count": null,
   "metadata": {},
   "outputs": [],
   "source": [
    "#Sales by SKU\n",
    "sales_sku = pd.pivot_table(trans_this_year, index ='Sku', columns = 'month', values = 'ProductSales', \\\n",
    "                              aggfunc = {'ProductSales': np.sum})\n",
    "sales.to_csv('sales_sku.csv')"
   ]
  },
  {
   "cell_type": "code",
   "execution_count": 22,
   "metadata": {},
   "outputs": [],
   "source": [
    "trans_product = trans_this_year.merge(prod_map, how= 'left', on= 'Sku')"
   ]
  },
  {
   "cell_type": "code",
   "execution_count": null,
   "metadata": {},
   "outputs": [],
   "source": [
    "#Sales by Product\n",
    "sales_product = pd.pivot_table(trans_this_year, index ='ProductLine', columns = 'month', values = 'ProductSales', \\\n",
    "                              aggfunc = {'ProductSales': np.sum})\n",
    "sales_product.to_csv('sales_product.csv')"
   ]
  },
  {
   "cell_type": "code",
   "execution_count": 8,
   "metadata": {},
   "outputs": [],
   "source": [
    "new_customer['FirstPurchaseDate'] = pd.to_datetime(new_customer['FirstPurchaseDate'], format='%d/%m/%Y')"
   ]
  },
  {
   "cell_type": "code",
   "execution_count": 23,
   "metadata": {},
   "outputs": [],
   "source": [
    "trans_product['concat']  = trans_product['ClientId'].astype(str) + trans_product['ProductLine']\n",
    "july= trans_product[['Date', 'ClientId', 'ProductLine', 'concat']]\n",
    "new_july = july.groupby(['ClientId']).agg(Minimum_Date=('Date', np.min)).reset_index()"
   ]
  },
  {
   "cell_type": "code",
   "execution_count": 24,
   "metadata": {},
   "outputs": [
    {
     "data": {
      "text/html": [
       "<div>\n",
       "<style scoped>\n",
       "    .dataframe tbody tr th:only-of-type {\n",
       "        vertical-align: middle;\n",
       "    }\n",
       "\n",
       "    .dataframe tbody tr th {\n",
       "        vertical-align: top;\n",
       "    }\n",
       "\n",
       "    .dataframe thead th {\n",
       "        text-align: right;\n",
       "    }\n",
       "</style>\n",
       "<table border=\"1\" class=\"dataframe\">\n",
       "  <thead>\n",
       "    <tr style=\"text-align: right;\">\n",
       "      <th></th>\n",
       "      <th>ClientId</th>\n",
       "      <th>Minimum_Date</th>\n",
       "    </tr>\n",
       "  </thead>\n",
       "  <tbody>\n",
       "    <tr>\n",
       "      <th>0</th>\n",
       "      <td>1.0</td>\n",
       "      <td>2017-12-16</td>\n",
       "    </tr>\n",
       "    <tr>\n",
       "      <th>1</th>\n",
       "      <td>2.0</td>\n",
       "      <td>2021-05-28</td>\n",
       "    </tr>\n",
       "    <tr>\n",
       "      <th>2</th>\n",
       "      <td>3.0</td>\n",
       "      <td>2017-11-06</td>\n",
       "    </tr>\n",
       "    <tr>\n",
       "      <th>3</th>\n",
       "      <td>4.0</td>\n",
       "      <td>2017-11-09</td>\n",
       "    </tr>\n",
       "    <tr>\n",
       "      <th>4</th>\n",
       "      <td>6.0</td>\n",
       "      <td>2017-10-25</td>\n",
       "    </tr>\n",
       "    <tr>\n",
       "      <th>...</th>\n",
       "      <td>...</td>\n",
       "      <td>...</td>\n",
       "    </tr>\n",
       "    <tr>\n",
       "      <th>142617</th>\n",
       "      <td>145167.0</td>\n",
       "      <td>2021-12-31</td>\n",
       "    </tr>\n",
       "    <tr>\n",
       "      <th>142618</th>\n",
       "      <td>145168.0</td>\n",
       "      <td>2021-12-31</td>\n",
       "    </tr>\n",
       "    <tr>\n",
       "      <th>142619</th>\n",
       "      <td>145169.0</td>\n",
       "      <td>2021-12-31</td>\n",
       "    </tr>\n",
       "    <tr>\n",
       "      <th>142620</th>\n",
       "      <td>145170.0</td>\n",
       "      <td>2021-12-31</td>\n",
       "    </tr>\n",
       "    <tr>\n",
       "      <th>142621</th>\n",
       "      <td>145171.0</td>\n",
       "      <td>2021-12-31</td>\n",
       "    </tr>\n",
       "  </tbody>\n",
       "</table>\n",
       "<p>142622 rows × 2 columns</p>\n",
       "</div>"
      ],
      "text/plain": [
       "        ClientId Minimum_Date\n",
       "0            1.0   2017-12-16\n",
       "1            2.0   2021-05-28\n",
       "2            3.0   2017-11-06\n",
       "3            4.0   2017-11-09\n",
       "4            6.0   2017-10-25\n",
       "...          ...          ...\n",
       "142617  145167.0   2021-12-31\n",
       "142618  145168.0   2021-12-31\n",
       "142619  145169.0   2021-12-31\n",
       "142620  145170.0   2021-12-31\n",
       "142621  145171.0   2021-12-31\n",
       "\n",
       "[142622 rows x 2 columns]"
      ]
     },
     "execution_count": 24,
     "metadata": {},
     "output_type": "execute_result"
    }
   ],
   "source": [
    "new_july"
   ]
  },
  {
   "cell_type": "code",
   "execution_count": 25,
   "metadata": {},
   "outputs": [],
   "source": [
    "new_july = new_july.merge(july, how='inner', left_on=['ClientId', 'Minimum_Date'], right_on=['ClientId', 'Date'])"
   ]
  },
  {
   "cell_type": "code",
   "execution_count": 35,
   "metadata": {},
   "outputs": [],
   "source": [
    "sample = new_july.loc[new_july['ClientId'] == 93985]"
   ]
  },
  {
   "cell_type": "code",
   "execution_count": 36,
   "metadata": {},
   "outputs": [
    {
     "data": {
      "text/html": [
       "<div>\n",
       "<style scoped>\n",
       "    .dataframe tbody tr th:only-of-type {\n",
       "        vertical-align: middle;\n",
       "    }\n",
       "\n",
       "    .dataframe tbody tr th {\n",
       "        vertical-align: top;\n",
       "    }\n",
       "\n",
       "    .dataframe thead th {\n",
       "        text-align: right;\n",
       "    }\n",
       "</style>\n",
       "<table border=\"1\" class=\"dataframe\">\n",
       "  <thead>\n",
       "    <tr style=\"text-align: right;\">\n",
       "      <th></th>\n",
       "      <th>ClientId</th>\n",
       "      <th>Minimum_Date</th>\n",
       "      <th>Date</th>\n",
       "      <th>ProductLine</th>\n",
       "      <th>concat</th>\n",
       "    </tr>\n",
       "  </thead>\n",
       "  <tbody>\n",
       "    <tr>\n",
       "      <th>94130</th>\n",
       "      <td>93985.0</td>\n",
       "      <td>2021-07-01</td>\n",
       "      <td>2021-07-01</td>\n",
       "      <td>Yak Chew</td>\n",
       "      <td>93985.0Yak Chew</td>\n",
       "    </tr>\n",
       "  </tbody>\n",
       "</table>\n",
       "</div>"
      ],
      "text/plain": [
       "       ClientId Minimum_Date       Date ProductLine           concat\n",
       "94130   93985.0   2021-07-01 2021-07-01    Yak Chew  93985.0Yak Chew"
      ]
     },
     "execution_count": 36,
     "metadata": {},
     "output_type": "execute_result"
    }
   ],
   "source": [
    "sample"
   ]
  },
  {
   "cell_type": "code",
   "execution_count": 28,
   "metadata": {},
   "outputs": [],
   "source": [
    "#Average 180 days sales of new customer\n",
    "new_july =new_july[(new_july['Minimum_Date'] >= '2021/07/01') &\\\n",
    "                       (new_july['Minimum_Date'] <= '2021/07/31')]\n",
    "\n",
    "new_client_list = new_july['concat'].to_list()\n",
    "new_customer_sales = trans_product[trans_product['concat'].isin(new_client_list)]\n",
    "#new_customer_sales = new_customer_sales[(new_customer_sales['Date'] >= '2021/07/01') & \\\n",
    "                                       #(new_customer_sales['Date'] <= '2021/07/31')]\n",
    "average_180_days = pd.pivot_table(new_customer_sales, index =['ClientId', 'ProductLine'], values = 'ProductSales', \\\n",
    "                              aggfunc = {'ProductSales': np.sum})\n",
    "\n",
    "average_180_days.to_csv('average_180_days.csv')"
   ]
  },
  {
   "cell_type": "code",
   "execution_count": 13,
   "metadata": {},
   "outputs": [],
   "source": [
    "#new_july.to_csv('new_july.csv')\n",
    "new_customer_sales.to_csv('new_customer_sales.csv')"
   ]
  },
  {
   "cell_type": "code",
   "execution_count": null,
   "metadata": {},
   "outputs": [],
   "source": []
  },
  {
   "cell_type": "code",
   "execution_count": 37,
   "metadata": {},
   "outputs": [],
   "source": [
    "new_cust_added = new_customer.merge(trans_this_year, how= 'left', on= 'ClientId')"
   ]
  },
  {
   "cell_type": "code",
   "execution_count": 38,
   "metadata": {},
   "outputs": [],
   "source": [
    "new_cust_added = new_cust_added.drop_duplicates(subset= 'ClientId', keep= 'first', inplace= True)"
   ]
  },
  {
   "cell_type": "code",
   "execution_count": null,
   "metadata": {},
   "outputs": [],
   "source": [
    "#New Customer by Product Line\n",
    "new_cust_product = pd.pivot_table(new_cust_added, index ='ProductLine', column= 'month', values = 'ClientId', \\\n",
    "                              aggfunc = 'new_cust_added')\n",
    "\n",
    "new_cust_product('new_cust_product.csv', index= False)"
   ]
  },
  {
   "cell_type": "code",
   "execution_count": null,
   "metadata": {},
   "outputs": [],
   "source": [
    "#New Customer by SKU\n",
    "new_cust_sku = pd.pivot_table(new_cust_added, index ='Sku', column= 'month', values = 'ClientId', \\\n",
    "                              aggfunc = 'count')\n",
    "\n",
    "new_cust_sku('new_cust_sku.csv', index= False)"
   ]
  },
  {
   "cell_type": "code",
   "execution_count": null,
   "metadata": {},
   "outputs": [],
   "source": [
    "#Fees by Product Line\n",
    "product_fee = pd.pivot_table(trans_this_year, index ='ProductLine', columns = 'month', values = 'AmazonFee', \\\n",
    "                              aggfunc = {'AmazonFee': np.sum})\n",
    "\n",
    "product_fee.to_csv('product_fee.csv', index= False)"
   ]
  },
  {
   "cell_type": "code",
   "execution_count": null,
   "metadata": {},
   "outputs": [],
   "source": [
    "#Fees by SKU\n",
    "sku_fee = pd.pivot_table(trans_this_year, index ='Sku', columns = 'month', values = 'AmazonFee', \\\n",
    "                              aggfunc = {'AmazonFee': np.sum})\n",
    "\n",
    "sku_fee.to_csv('sku_fee.csv', index= False)"
   ]
  },
  {
   "cell_type": "code",
   "execution_count": null,
   "metadata": {},
   "outputs": [],
   "source": []
  },
  {
   "cell_type": "code",
   "execution_count": 33,
   "metadata": {},
   "outputs": [],
   "source": []
  },
  {
   "cell_type": "code",
   "execution_count": null,
   "metadata": {},
   "outputs": [],
   "source": []
  },
  {
   "cell_type": "code",
   "execution_count": null,
   "metadata": {},
   "outputs": [],
   "source": []
  },
  {
   "cell_type": "code",
   "execution_count": null,
   "metadata": {},
   "outputs": [],
   "source": []
  },
  {
   "cell_type": "code",
   "execution_count": null,
   "metadata": {},
   "outputs": [],
   "source": []
  }
 ],
 "metadata": {
  "kernelspec": {
   "display_name": "Python 3",
   "language": "python",
   "name": "python3"
  },
  "language_info": {
   "codemirror_mode": {
    "name": "ipython",
    "version": 3
   },
   "file_extension": ".py",
   "mimetype": "text/x-python",
   "name": "python",
   "nbconvert_exporter": "python",
   "pygments_lexer": "ipython3",
   "version": "3.7.6"
  }
 },
 "nbformat": 4,
 "nbformat_minor": 4
}
